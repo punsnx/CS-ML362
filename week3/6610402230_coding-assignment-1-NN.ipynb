{
 "cells": [
  {
   "cell_type": "markdown",
   "metadata": {},
   "source": [
    "6610402230 ศิริสุข ทานธรรม"
   ]
  },
  {
   "cell_type": "code",
   "execution_count": 1,
   "metadata": {},
   "outputs": [],
   "source": [
    "import numpy as np\n",
    "import pandas as pd\n",
    "# from sklearn import neighbors\n",
    "# from sklearn.model_selection import train_test_split\n",
    "\n",
    "seed_value = 12345\n",
    "np.random.seed(seed_value)\n",
    "\n",
    "def train_test_split(X, Y, test_size):\n",
    "    X = np.array(X)\n",
    "    Y = np.array(Y)\n",
    "    \n",
    "    index_list = np.arange(X.shape[0])\n",
    "    np.random.shuffle(index_list)\n",
    "    \n",
    "    X = X[index_list]\n",
    "    Y = Y[index_list]\n",
    "    \n",
    "    train_size = 1 - test_size\n",
    "    train_count = int(len(X) * train_size)\n",
    "    \n",
    "    return X[:train_count], X[train_count:], Y[:train_count], Y[train_count:]\n",
    "    \n",
    "class neighbors:\n",
    "    class KNeighborsClassifier:        \n",
    "        def __init__(self,n_neighbors : int,p=2):\n",
    "            #initialize\n",
    "            self.X = None\n",
    "            self.Y = None\n",
    "            self.n_neighbors=n_neighbors\n",
    "            self.p=p\n",
    "            \n",
    "        def fit(self,X_train: np.ndarray,Y_train: np.ndarray):\n",
    "            # store X,Y_Train on fit\n",
    "            self.X_train = X_train.astype(int)\n",
    "            self.Y_train = Y_train.astype(int)\n",
    "            \n",
    "        def __minkowski_distance(self,x1 : np.ndarray,x2 : np.ndarray):\n",
    "            return np.sum(np.abs(x1 - x2) ** self.p) ** (1 / self.p)\n",
    "\n",
    "        def __kNN_majority(self,neighbors : np.ndarray):\n",
    "            neighbors = neighbors[:self.n_neighbors] \n",
    "            neighbors = neighbors.transpose()[1] # use only y\n",
    "            values, counts = np.unique(neighbors,return_counts=True)\n",
    "            mode_value = np.argwhere(counts == np.max(counts))\n",
    "            return values[mode_value].flatten().tolist()[0] # [0] mean if mode > 1 select first\n",
    "            \n",
    "        def predict(self,X : np.ndarray):\n",
    "            X = X.astype(int)\n",
    "            # each neighbor = [distance,y] \n",
    "            predictions = np.array([])\n",
    "            for data in X:\n",
    "                neighbors = np.empty((len(self.X_train), 2))\n",
    "                for i,train_data in enumerate(self.X_train):\n",
    "                    distance = self.__minkowski_distance(data,train_data)\n",
    "                    neighbors[i] = [distance,self.Y_train[i]]\n",
    "                neighbors = neighbors[neighbors[:, 0].argsort()]\n",
    "                predictions = np.append(predictions,self.__kNN_majority(neighbors))\n",
    "            return predictions\n",
    "            \n",
    "        def score(self,X:np.ndarray,Y:np.ndarray):\n",
    "            X = X.astype(int)\n",
    "            Y = Y.astype(int)\n",
    "            predictions = self.predict(X)\n",
    "            # print(X.shape,Y.shape,predictions)\n",
    "            loss = np.sum(predictions != Y) / X.size\n",
    "            return 1 - loss"
   ]
  },
  {
   "cell_type": "code",
   "execution_count": 2,
   "metadata": {},
   "outputs": [],
   "source": [
    "# For your assignment, you have implement function \"train_test_split\" and\n",
    "# module \"neighbors\" on your own. This means you will have to make the code working\n",
    "# without any modification in cells 2-6\n",
    "\n",
    "df = pd.read_csv('breast-cancer-wisconsin.csv')\n",
    "df.replace('?', -99999, inplace=True)\n",
    "df.drop(['id'], axis=1, inplace=True)\n",
    "\n",
    "\n",
    "x = np.array(df.drop(['class'], axis=1))\n",
    "y = np.array(df['class'])"
   ]
  },
  {
   "cell_type": "code",
   "execution_count": 3,
   "metadata": {},
   "outputs": [],
   "source": [
    "x_train, x_test, y_train, y_test = train_test_split(x, y, test_size=0.2)"
   ]
  },
  {
   "cell_type": "code",
   "execution_count": 4,
   "metadata": {},
   "outputs": [],
   "source": [
    "h = neighbors.KNeighborsClassifier(n_neighbors=7, p=2)\n",
    "h.fit(x_train, y_train)"
   ]
  },
  {
   "cell_type": "code",
   "execution_count": 5,
   "metadata": {},
   "outputs": [
    {
     "name": "stdout",
     "output_type": "stream",
     "text": [
      "[4.]\n"
     ]
    }
   ],
   "source": [
    "new_x = np.array([4,6,5,6,7,8,4,9,1])\n",
    "result = h.predict(new_x.reshape(1, -1))\n",
    "print(result)"
   ]
  },
  {
   "cell_type": "code",
   "execution_count": 6,
   "metadata": {},
   "outputs": [
    {
     "name": "stdout",
     "output_type": "stream",
     "text": [
      "0.9968253968253968\n"
     ]
    }
   ],
   "source": [
    "print(h.score(x_test, y_test))"
   ]
  },
  {
   "cell_type": "markdown",
   "metadata": {},
   "source": [
    "# Summarize"
   ]
  },
  {
   "cell_type": "markdown",
   "metadata": {},
   "source": [
    "1. feature sapce (X) \n",
    "   - 9 dimension (feature xi) relate with tumors dataset\n",
    "2. label space (Y) \n",
    "   - 2 class (benign and malignant)\n",
    "3. devide dataset with train_test_split() function\n",
    "   - test_size = 20 %\n",
    "   - train_size = 80 %\n",
    "   - method : shuffle (fixed random seed)\n",
    "4. k-Nearest Neighbors Algorithm\n",
    "   - Minkowski distance \n",
    "     - p = 2 : Euclidean distance \n",
    "   - Training Step (fit) : store data points and its label\n",
    "   - Predict Step (x : each data)\n",
    "     - find distance from x to each data points (Neigbors)\n",
    "     - sort ascending in set of neighbors\n",
    "     - select k-NN from neighbors\n",
    "     - predict mode of k-NN set\n",
    "5. evaluate with zero/one loss metric\n",
    "   - the accuracy is 1 - loss(X_test,Y_test)  "
   ]
  }
 ],
 "metadata": {
  "kernelspec": {
   "display_name": "ds",
   "language": "python",
   "name": "python3"
  },
  "language_info": {
   "codemirror_mode": {
    "name": "ipython",
    "version": 3
   },
   "file_extension": ".py",
   "mimetype": "text/x-python",
   "name": "python",
   "nbconvert_exporter": "python",
   "pygments_lexer": "ipython3",
   "version": "3.12.7"
  }
 },
 "nbformat": 4,
 "nbformat_minor": 4
}
