{
 "cells": [
  {
   "cell_type": "markdown",
   "metadata": {},
   "source": [
    "# 6610402230 ศิริสุข ทานธรรม"
   ]
  },
  {
   "cell_type": "code",
   "execution_count": 6,
   "metadata": {
    "tags": []
   },
   "outputs": [],
   "source": [
    "import numpy as np\n",
    "import pandas as pd\n",
    "import math\n",
    "import matplotlib.pyplot as plt\n",
    "\n",
    "# Linear regression in one dimension\n",
    "class linear_regression_1D:\n",
    "    \n",
    "    # Class constructor\n",
    "    def __init__(self):\n",
    "        # Define the vector w (the slop of the line)\n",
    "        # w is the two diemensional vector becuase we must absorb b into w\n",
    "        self.w = np.zeros(2)\n",
    "        # Define the learning rate\n",
    "        self.alpha = 1\n",
    "\n",
    "    # Class function to set the learning rate\n",
    "    def set_learning_rate(self, alpha):\n",
    "        self.alpha = alpha\n",
    "\n",
    "    # Class function to fit the data (find the appropiate value of w)\n",
    "    def fit(self, x, y, iteration=1500):\n",
    "        self.y = y\n",
    "        # Apply transformation to x. Recall that we must absorb b into w \n",
    "        self.x = np.append(x.transpose(), np.ones((x.shape[1], 1)), axis=1)\n",
    "        # Iteratively make an updage for w by gradient descent\n",
    "        for i in range(iteration):\n",
    "            self.make_one_update()\n",
    "\n",
    "    # Class function to make an update for w\n",
    "    def make_one_update(self):\n",
    "        w_current = self.w\n",
    "        # Set step size \n",
    "        step = (-1)*self.alpha*self.compute_gradient(w_current)\n",
    "        w_update = w_current + step\n",
    "        \n",
    "        # Report the progress of convergence\n",
    "        current_loss = self.sq_loss(w_current)\n",
    "        update_loss = self.sq_loss(w_update)\n",
    "        if current_loss > update_loss:\n",
    "            print(\"Loss decreases to \", update_loss,)\n",
    "        else:\n",
    "            print(\"Loss increases to \", update_loss,)\n",
    "        self.w = w_update\n",
    "    \n",
    "    # Class function to compute the gradient with respect to the current w\n",
    "    def compute_gradient(self, w_current):\n",
    "        grad_v = np.zeros(2)\n",
    "        # Uncomment the following to implement how to compute the gradient vector \n",
    "        y_hat = np.dot(self.x, w_current) \n",
    "        residual = y_hat - self.y          \n",
    "        grad_v[0] = 2 *  np.dot(residual, self.x[:, 0])\n",
    "        grad_v[1] = 2 * np.dot(residual, self.x[:, 1]) \n",
    "        print(\"The norm of grad vector is \", math.sqrt(np.inner(grad_v, grad_v)))\n",
    "        return grad_v\n",
    "\n",
    "    # Class function to compute the square loss function\n",
    "    def sq_loss(self, w):\n",
    "        # Uncomment the following to implement how to compute the loss function\n",
    "        loss = np.sum((np.sum(self.x * w,axis=1) - self.y)**2)/self.x.shape[0]\n",
    "        return loss\n",
    "        pass\n",
    "        "
   ]
  },
  {
   "cell_type": "code",
   "execution_count": 7,
   "metadata": {
    "tags": [
     "outputPrepend"
    ]
   },
   "outputs": [
    {
     "data": {
      "image/png": "[encoded data removed]",
      "text/plain": [
       "<Figure size 640x480 with 1 Axes>"
      ]
     },
     "metadata": {},
     "output_type": "display_data"
    }
   ],
   "source": [
    "# Create our data set where x is one-dimensional\n",
    "x = np.array([[1, 2, 3, 4, 5, 6, 7, 8, 9, 10]])\n",
    "y = np.array([5.5, 7.1, 8.7, 13.1, 14.56, 19.01, 19.85, 26.12, 27.11, 28.112])\n",
    "\n",
    "# The 2D plot of our data\n",
    "plt.plot(x.transpose(), y, 'ro')\n",
    "plt.show()\n"
   ]
  },
  {
   "cell_type": "code",
   "execution_count": 8,
   "metadata": {},
   "outputs": [],
   "source": [
    "# X = np.append(x.transpose(), np.ones((x.shape[1], 1)), axis=1)\n",
    "# np.sum(X,axis=0)\n",
    "# X[:,0].sum()\n",
    "# W = np.ones(2)\n",
    "# # W*X\n",
    "# # np.sum((np.sum(X * W,axis=1) - y)**2)/X.shape[0]\n",
    "# np.dot(X,W)"
   ]
  },
  {
   "cell_type": "code",
   "execution_count": 9,
   "metadata": {},
   "outputs": [
    {
     "name": "stdout",
     "output_type": "stream",
     "text": [
      "The norm of grad vector is  2340.739258135344\n",
      "Loss decreases to  17.649887851216\n",
      "The norm of grad vector is  501.4145547115201\n",
      "Loss decreases to  2.385191256459594\n",
      "The norm of grad vector is  107.53824388871456\n",
      "Loss decreases to  1.6819191080278224\n"
     ]
    }
   ],
   "source": [
    "\n",
    "h = linear_regression_1D()\n",
    "\n",
    "# You may edit the learning rate if the current setting does not yield convergence\n",
    "h.set_learning_rate(0.001)\n",
    "\n",
    "# Uncomment the following to fit the vector w to our data. \n",
    "# You may also edit the number of iterations if the current setting does not yield convergence\n",
    "h.fit(x, y, iteration=3)"
   ]
  },
  {
   "cell_type": "code",
   "execution_count": 10,
   "metadata": {},
   "outputs": [
    {
     "data": {
      "image/png": "[encoded data removed]",
      "text/plain": [
       "<Figure size 640x480 with 1 Axes>"
      ]
     },
     "metadata": {},
     "output_type": "display_data"
    }
   ],
   "source": [
    "# The following codes is to give a 2D plot our data and the linear function that we learnt from our setting\n",
    "plt.plot(x.transpose(), y, 'ro')\n",
    "plt.plot(x.transpose(), x.transpose()*h.w[0]+h.w[1], linestyle='solid')\n",
    "plt.show()"
   ]
  }
 ],
 "metadata": {
  "kernelspec": {
   "display_name": "ds",
   "language": "python",
   "name": "python3"
  },
  "language_info": {
   "codemirror_mode": {
    "name": "ipython",
    "version": 3
   },
   "file_extension": ".py",
   "mimetype": "text/x-python",
   "name": "python",
   "nbconvert_exporter": "python",
   "pygments_lexer": "ipython3",
   "version": "3.12.7"
  }
 },
 "nbformat": 4,
 "nbformat_minor": 4
}
